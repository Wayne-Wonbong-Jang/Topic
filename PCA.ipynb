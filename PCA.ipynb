{
  "nbformat": 4,
  "nbformat_minor": 0,
  "metadata": {
    "colab": {
      "name": "PCA",
      "version": "0.3.2",
      "provenance": [],
      "collapsed_sections": [],
      "include_colab_link": true
    },
    "kernelspec": {
      "name": "python3",
      "display_name": "Python 3"
    }
  },
  "cells": [
    {
      "cell_type": "markdown",
      "metadata": {
        "id": "view-in-github",
        "colab_type": "text"
      },
      "source": [
        "[View in Colaboratory](https://colab.research.google.com/github/wayne1123/Topic/blob/master/PCA.ipynb)"
      ]
    },
    {
      "metadata": {
        "id": "246wI6N8YRAG",
        "colab_type": "code",
        "colab": {}
      },
      "cell_type": "code",
      "source": [
        "#!kill -9 -1"
      ],
      "execution_count": 0,
      "outputs": []
    },
    {
      "metadata": {
        "id": "kYnzGEV4RUww",
        "colab_type": "text"
      },
      "cell_type": "markdown",
      "source": [
        "## PCA\n",
        "\n",
        "In this notebook, I am going to implement PCA using pytorch and torchvision. Though I use pytorch, I don't need to use GPU.\n",
        "\n",
        "The purpose of PCA is to find the components explaining the largest variance of the original data. It can be used for dimension reduction.\n"
      ]
    },
    {
      "metadata": {
        "id": "7gMCuPH5O8PE",
        "colab_type": "code",
        "colab": {
          "base_uri": "https://localhost:8080/",
          "height": 326
        },
        "outputId": "a78d4602-61a2-45ea-ae40-2523a218bd8d"
      },
      "cell_type": "code",
      "source": [
        "!pip3 install torchvision"
      ],
      "execution_count": 2,
      "outputs": [
        {
          "output_type": "stream",
          "text": [
            "Collecting torchvision\n",
            "\u001b[?25l  Downloading https://files.pythonhosted.org/packages/ca/0d/f00b2885711e08bd71242ebe7b96561e6f6d01fdb4b9dcf4d37e2e13c5e1/torchvision-0.2.1-py2.py3-none-any.whl (54kB)\n",
            "\u001b[K    100% |████████████████████████████████| 61kB 3.9MB/s \n",
            "\u001b[?25hCollecting pillow>=4.1.1 (from torchvision)\n",
            "\u001b[?25l  Downloading https://files.pythonhosted.org/packages/d1/24/f53ff6b61b3d728b90934bddb4f03f8ab584a7f49299bf3bde56e2952612/Pillow-5.2.0-cp36-cp36m-manylinux1_x86_64.whl (2.0MB)\n",
            "\u001b[K    100% |████████████████████████████████| 2.0MB 7.8MB/s \n",
            "\u001b[?25hRequirement already satisfied: six in /usr/local/lib/python3.6/dist-packages (from torchvision) (1.11.0)\n",
            "Collecting torch (from torchvision)\n",
            "\u001b[?25l  Downloading https://files.pythonhosted.org/packages/49/0e/e382bcf1a6ae8225f50b99cc26effa2d4cc6d66975ccf3fa9590efcbedce/torch-0.4.1-cp36-cp36m-manylinux1_x86_64.whl (519.5MB)\n",
            "\u001b[K    100% |████████████████████████████████| 519.5MB 32kB/s \n",
            "tcmalloc: large alloc 1073750016 bytes == 0x590ee000 @  0x7fda83eed1c4 0x46d6a4 0x5fcbcc 0x4c494d 0x54f3c4 0x553aaf 0x54e4c8 0x54f4f6 0x553aaf 0x54efc1 0x54f24d 0x553aaf 0x54efc1 0x54f24d 0x553aaf 0x54efc1 0x54f24d 0x551ee0 0x54e4c8 0x54f4f6 0x553aaf 0x54efc1 0x54f24d 0x551ee0 0x54efc1 0x54f24d 0x551ee0 0x54e4c8 0x54f4f6 0x553aaf 0x54e4c8\n",
            "\u001b[?25hRequirement already satisfied: numpy in /usr/local/lib/python3.6/dist-packages (from torchvision) (1.14.5)\n",
            "Installing collected packages: pillow, torch, torchvision\n",
            "  Found existing installation: Pillow 4.0.0\n",
            "    Uninstalling Pillow-4.0.0:\n",
            "      Successfully uninstalled Pillow-4.0.0\n",
            "Successfully installed pillow-5.2.0 torch-0.4.1 torchvision-0.2.1\n"
          ],
          "name": "stdout"
        }
      ]
    },
    {
      "metadata": {
        "id": "xzuAH5-9O-m_",
        "colab_type": "code",
        "colab": {
          "base_uri": "https://localhost:8080/",
          "height": 51
        },
        "outputId": "0514e519-282c-422e-8d57-c9b3f3134228"
      },
      "cell_type": "code",
      "source": [
        "from os import path\n",
        "from wheel.pep425tags import get_abbr_impl, get_impl_ver, get_abi_tag\n",
        "platform = '{}{}-{}'.format(get_abbr_impl(), get_impl_ver(), get_abi_tag())\n",
        "accelerator = 'cu80' if path.exists('/opt/bin/nvidia-smi') else 'cpu'\n",
        "!pip install -q http://download.pytorch.org/whl/{accelerator}/torch-0.4.0-{platform}-linux_x86_64.whl torchvision\n",
        "import torch\n",
        "print(torch.__version__)\n",
        "print(torch.cuda.is_available())"
      ],
      "execution_count": 3,
      "outputs": [
        {
          "output_type": "stream",
          "text": [
            "0.4.0\n",
            "False\n"
          ],
          "name": "stdout"
        }
      ]
    },
    {
      "metadata": {
        "id": "jv0sX8c9PwdS",
        "colab_type": "code",
        "colab": {}
      },
      "cell_type": "code",
      "source": [
        "import os\n",
        "import numpy as np\n",
        "import seaborn as sns\n",
        "import matplotlib.pyplot as plt\n",
        "\n",
        "import torch\n",
        "import torch.nn as nn\n",
        "import torch.nn.functional as F\n",
        "import torch.nn.init as init\n",
        "import torch.optim as optim\n",
        "import torchvision\n",
        "from torchvision import datasets, transforms\n",
        "import torchvision.utils as vutils\n",
        "from torch.autograd import Variable"
      ],
      "execution_count": 0,
      "outputs": []
    },
    {
      "metadata": {
        "id": "w8IPPWEdRpAd",
        "colab_type": "text"
      },
      "cell_type": "markdown",
      "source": [
        "Load the dataset using normaliszation function to make the MNIST dataset having zero mean and one standard deviation."
      ]
    },
    {
      "metadata": {
        "id": "dsROYYJRP93v",
        "colab_type": "code",
        "colab": {
          "base_uri": "https://localhost:8080/",
          "height": 119
        },
        "outputId": "a83ba2f0-6aa8-4567-af20-c2e654a9eeb1"
      },
      "cell_type": "code",
      "source": [
        "batch_size = 250\n",
        "kwargs = {'num_workers': 1, 'pin_memory': True}\n",
        "train_loader = torch.utils.data.DataLoader(\n",
        "    datasets.MNIST('./data', train=True, download=True,\n",
        "                   transform=transforms.Compose([\n",
        "                       transforms.ToTensor(),\n",
        "                       transforms.Normalize((0.1307,), (0.3081,))\n",
        "                   ])),\n",
        "batch_size=batch_size, shuffle=True, **kwargs)"
      ],
      "execution_count": 5,
      "outputs": [
        {
          "output_type": "stream",
          "text": [
            "Downloading http://yann.lecun.com/exdb/mnist/train-images-idx3-ubyte.gz\n",
            "Downloading http://yann.lecun.com/exdb/mnist/train-labels-idx1-ubyte.gz\n",
            "Downloading http://yann.lecun.com/exdb/mnist/t10k-images-idx3-ubyte.gz\n",
            "Downloading http://yann.lecun.com/exdb/mnist/t10k-labels-idx1-ubyte.gz\n",
            "Processing...\n",
            "Done!\n"
          ],
          "name": "stdout"
        }
      ]
    },
    {
      "metadata": {
        "id": "Z7qXpU03QAYE",
        "colab_type": "code",
        "colab": {}
      },
      "cell_type": "code",
      "source": [
        "img = torch.zeros(60000,1,28,28)\n",
        "lab = torch.zeros(60000,1)\n",
        "#img = img.cuda()\n",
        "for j, data in enumerate(train_loader):\n",
        "  image, label = data\n",
        "  #image = image.cuda()\n",
        "  #print(image.size())\n",
        "  img[batch_size*j:batch_size*(j+1)] = image\n",
        "  lab[batch_size*j:batch_size*(j+1)] = label.reshape(-1,1)"
      ],
      "execution_count": 0,
      "outputs": []
    },
    {
      "metadata": {
        "id": "yt3SDaFgQu0j",
        "colab_type": "code",
        "colab": {
          "base_uri": "https://localhost:8080/",
          "height": 51
        },
        "outputId": "4b1b4559-4dbb-44d2-ce79-7fa3a5440980"
      },
      "cell_type": "code",
      "source": [
        "torch.mean(img), torch.std(img)"
      ],
      "execution_count": 13,
      "outputs": [
        {
          "output_type": "execute_result",
          "data": {
            "text/plain": [
              "(tensor(1.00000e-04 *\n",
              "        -1.2829), tensor(1.0000))"
            ]
          },
          "metadata": {
            "tags": []
          },
          "execution_count": 13
        }
      ]
    },
    {
      "metadata": {
        "id": "RO-aZUmUR5Mg",
        "colab_type": "text"
      },
      "cell_type": "markdown",
      "source": [
        "Now, we check that the mean of the images is negligible, and the standard deviation of the images is 1.\n",
        "\n",
        "### The basic structure of this algorithm\n",
        "\n",
        "1) Compute the covariance matrix <br/>\n",
        "2) Get the Eigenvalues / Eigenvectors from the covariance matrix. <br/>\n",
        "3) Normalize the eigenvectors - now they are orthonormal vectors. <br/>\n",
        "4) Find the index of k-largest eigenvalues, and sort the eigenvectors using the index <br/>\n",
        "5) Using these corresponding eigenvectors, transform them to reproduce the original images.\n",
        "\n",
        "### Using formulas\n",
        "\n",
        "Find the eigenvalues $\\lambda$ and sort them in the decending order. <br/>\n",
        "$Xv = \\lambda v$ <br/>\n",
        "\n",
        "How to get eigenvalues and eigenvectors?\n",
        "$Xv = \\lambda v, (X-\\lambda I)v = 0$<br/>\n",
        "Zero is the trivial solution, so the determinant of $(X-\\lambda I) = 0$. <br/>\n",
        "Here, eigenvalue $\\lambda$ is scale invariant, but eigenvectors can vary up to scales. We can choose eigenvectors having the Norm 1.\n",
        "\n",
        "Now, we can decompose X into its principal factors.\n",
        "\n",
        "$X = \\sum_{\\text{for all v}} X vv^T$ \n",
        "\n",
        "For dimension reduction, we can choose k eigenvectors which correspond to $\\textit{k largest eigenvalues}$. \n",
        "\n"
      ]
    },
    {
      "metadata": {
        "id": "pejU8QZ_XKSl",
        "colab_type": "text"
      },
      "cell_type": "markdown",
      "source": [
        "### Applying to MNIST dataset\n",
        "\n",
        "The first obstacle would be the tensor. How to compute the covariance matrix of the tensor? <br/>\n",
        "For grey-scale image, it is not difficult. Just make it into 1-dimention vectors. Then, now there is a question. How about RGB scale images? <br/>\n",
        "\n",
        "The second obstacle would be the number of images. Do we need to get PCA for every single images? or can we get PCA for overall, and extract the ten largest eigenvalues and corresponding eigenvectors then can we cluster the images successfully?"
      ]
    },
    {
      "metadata": {
        "id": "gHDEFWFheOTL",
        "colab_type": "text"
      },
      "cell_type": "markdown",
      "source": [
        "Think of MNIST vectors as 784 dimension vector. There are 60,000 number of 784 dimension vectors in the training set. Actually, they correspond to 10 different labels. In other words, it has 10 different clusters. \n",
        "\n",
        "Let's take 10 largest indexes of eigenvalues, and draw them to see if they figure out 10 different images."
      ]
    },
    {
      "metadata": {
        "id": "-wIAG7LzRQus",
        "colab_type": "code",
        "colab": {
          "base_uri": "https://localhost:8080/",
          "height": 34
        },
        "outputId": "17303b1c-7c24-406d-c754-85ad5a195376"
      },
      "cell_type": "code",
      "source": [
        "img_r = img.reshape(-1, 784)\n",
        "cov_r = torch.mm(img_r.permute(1,0), img_r)\n",
        "val, vec = torch.symeig(cov_r, eigenvectors=True)\n",
        "#val = val[:,0] # Taking only real parts\n",
        "val_sorted, val_idx = torch.sort(val)\n",
        "k=10\n",
        "idx = val_idx[:k]\n",
        "vec_k = vec[idx]\n",
        "rep = torch.mm(cov_r,vec_k.permute(1,0))\n",
        "print(torch.mean(rep),torch.std(rep))"
      ],
      "execution_count": 55,
      "outputs": [
        {
          "output_type": "stream",
          "text": [
            "tensor(-1.5243) tensor(14078.8887)\n"
          ],
          "name": "stdout"
        }
      ]
    },
    {
      "metadata": {
        "id": "hX2XpA1Jcz6F",
        "colab_type": "code",
        "colab": {}
      },
      "cell_type": "code",
      "source": [
        "def draw(mm, k=1):\n",
        "  for i in range(mm.shape[1]):\n",
        "    plt.figure(figsize=(2,2))\n",
        "    ax = plt.subplot(1,k,1)\n",
        "    plt.imshow(mm[:,i].reshape(28,28))\n",
        "    plt.axis('off')\n",
        "    plt.show()"
      ],
      "execution_count": 0,
      "outputs": []
    },
    {
      "metadata": {
        "id": "sdzQU4440WN4",
        "colab_type": "code",
        "colab": {
          "base_uri": "https://localhost:8080/",
          "height": 1437
        },
        "outputId": "cce9fb98-b6da-40a4-f325-127585ee2c67"
      },
      "cell_type": "code",
      "source": [
        "draw(rep)"
      ],
      "execution_count": 57,
      "outputs": [
        {
          "output_type": "display_data",
          "data": {
            "image/png": "[encoded data removed]",
            "text/plain": [
              "<matplotlib.figure.Figure at 0x7f70d0e29048>"
            ]
          },
          "metadata": {
            "tags": []
          }
        },
        {
          "output_type": "display_data",
          "data": {
            "image/png": "[encoded data removed]",
            "text/plain": [
              "<matplotlib.figure.Figure at 0x7f70d0baf390>"
            ]
          },
          "metadata": {
            "tags": []
          }
        },
        {
          "output_type": "display_data",
          "data": {
            "image/png": "[encoded data removed]",
            "text/plain": [
              "<matplotlib.figure.Figure at 0x7f70d37def98>"
            ]
          },
          "metadata": {
            "tags": []
          }
        },
        {
          "output_type": "display_data",
          "data": {
            "image/png": "[encoded data removed]",
            "text/plain": [
              "<matplotlib.figure.Figure at 0x7f70d098ea58>"
            ]
          },
          "metadata": {
            "tags": []
          }
        },
        {
          "output_type": "display_data",
          "data": {
            "image/png": "[encoded data removed]",
            "text/plain": [
              "<matplotlib.figure.Figure at 0x7f70d36f22e8>"
            ]
          },
          "metadata": {
            "tags": []
          }
        },
        {
          "output_type": "display_data",
          "data": {
            "image/png": "[encoded data removed]",
            "text/plain": [
              "<matplotlib.figure.Figure at 0x7f70d370d278>"
            ]
          },
          "metadata": {
            "tags": []
          }
        },
        {
          "output_type": "display_data",
          "data": {
            "image/png": "[encoded data removed]",
            "text/plain": [
              "<matplotlib.figure.Figure at 0x7f70d0a1ecc0>"
            ]
          },
          "metadata": {
            "tags": []
          }
        },
        {
          "output_type": "display_data",
          "data": {
            "image/png": "[encoded data removed]",
            "text/plain": [
              "<matplotlib.figure.Figure at 0x7f70d0bc7080>"
            ]
          },
          "metadata": {
            "tags": []
          }
        },
        {
          "output_type": "display_data",
          "data": {
            "image/png": "[encoded data removed]",
            "text/plain": [
              "<matplotlib.figure.Figure at 0x7f70d0ac26d8>"
            ]
          },
          "metadata": {
            "tags": []
          }
        },
        {
          "output_type": "display_data",
          "data": {
            "image/png": "[encoded data removed]",
            "text/plain": [
              "<matplotlib.figure.Figure at 0x7f70d0a924a8>"
            ]
          },
          "metadata": {
            "tags": []
          }
        }
      ]
    },
    {
      "metadata": {
        "id": "z69HsNOjMW7h",
        "colab_type": "text"
      },
      "cell_type": "markdown",
      "source": [
        "It just finds the average of 10 different images. So, now do PCA using the label information. Take only the principal component."
      ]
    },
    {
      "metadata": {
        "id": "SJJZkg-jKF7Y",
        "colab_type": "code",
        "colab": {}
      },
      "cell_type": "code",
      "source": [
        "k=1\n",
        "pca = torch.zeros(784*k,10)\n",
        "lab = lab.reshape(-1,)\n",
        "for label in range(10):\n",
        "  img_temp = img_r[lab==label]\n",
        "  cov_temp = torch.mm(img_temp.permute(1,0),img_temp)\n",
        "  val_temp, vec_temp = torch.symeig(cov_temp, eigenvectors=True)\n",
        "  #val = val[:,0] # Taking only real parts\n",
        "  val_sorted, val_idx = torch.sort(val_temp)\n",
        "  idx = val_idx[:k]\n",
        "  vec_k = vec_temp[idx]\n",
        "  rep_ = torch.mm(cov_temp,vec_k.permute(1,0))\n",
        "  pca[:,label] = rep_.reshape(-1,)"
      ],
      "execution_count": 0,
      "outputs": []
    },
    {
      "metadata": {
        "id": "ty_KK8fEwK_1",
        "colab_type": "code",
        "colab": {
          "base_uri": "https://localhost:8080/",
          "height": 1437
        },
        "outputId": "729e721d-9720-4ddb-9235-01cb3df8b32e"
      },
      "cell_type": "code",
      "source": [
        "draw(pca,k)"
      ],
      "execution_count": 60,
      "outputs": [
        {
          "output_type": "display_data",
          "data": {
            "image/png": "[encoded data removed]",
            "text/plain": [
              "<matplotlib.figure.Figure at 0x7f70d050fa20>"
            ]
          },
          "metadata": {
            "tags": []
          }
        },
        {
          "output_type": "display_data",
          "data": {
            "image/png": "[encoded data removed]",
            "text/plain": [
              "<matplotlib.figure.Figure at 0x7f70d04f7a58>"
            ]
          },
          "metadata": {
            "tags": []
          }
        },
        {
          "output_type": "display_data",
          "data": {
            "image/png": "[encoded data removed]",
            "text/plain": [
              "<matplotlib.figure.Figure at 0x7f70d0b0d668>"
            ]
          },
          "metadata": {
            "tags": []
          }
        },
        {
          "output_type": "display_data",
          "data": {
            "image/png": "[encoded data removed]",
            "text/plain": [
              "<matplotlib.figure.Figure at 0x7f70d0a67eb8>"
            ]
          },
          "metadata": {
            "tags": []
          }
        },
        {
          "output_type": "display_data",
          "data": {
            "image/png": "[encoded data removed]",
            "text/plain": [
              "<matplotlib.figure.Figure at 0x7f70d048c278>"
            ]
          },
          "metadata": {
            "tags": []
          }
        },
        {
          "output_type": "display_data",
          "data": {
            "image/png": "[encoded data removed]",
            "text/plain": [
              "<matplotlib.figure.Figure at 0x7f70d0567cf8>"
            ]
          },
          "metadata": {
            "tags": []
          }
        },
        {
          "output_type": "display_data",
          "data": {
            "image/png": "[encoded data removed]",
            "text/plain": [
              "<matplotlib.figure.Figure at 0x7f70d37eafd0>"
            ]
          },
          "metadata": {
            "tags": []
          }
        },
        {
          "output_type": "display_data",
          "data": {
            "image/png": "[encoded data removed]",
            "text/plain": [
              "<matplotlib.figure.Figure at 0x7f70d0abeb00>"
            ]
          },
          "metadata": {
            "tags": []
          }
        },
        {
          "output_type": "display_data",
          "data": {
            "image/png": "[encoded data removed]",
            "text/plain": [
              "<matplotlib.figure.Figure at 0x7f70d0cca668>"
            ]
          },
          "metadata": {
            "tags": []
          }
        },
        {
          "output_type": "display_data",
          "data": {
            "image/png": "[encoded data removed]",
            "text/plain": [
              "<matplotlib.figure.Figure at 0x7f70d0507518>"
            ]
          },
          "metadata": {
            "tags": []
          }
        }
      ]
    },
    {
      "metadata": {
        "id": "4cs4BasqysQX",
        "colab_type": "text"
      },
      "cell_type": "markdown",
      "source": [
        "It clearly shows that the principal component of MNIST data well describes the MNIST data set.\n",
        "\n",
        "Future Work:\n",
        "* How to cluster MNIST data without label information"
      ]
    }
  ]
}