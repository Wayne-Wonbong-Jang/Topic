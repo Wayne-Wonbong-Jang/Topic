{
  "nbformat": 4,
  "nbformat_minor": 0,
  "metadata": {
    "colab": {
      "name": "PCA-Pytorch",
      "version": "0.3.2",
      "provenance": [],
      "include_colab_link": true
    },
    "kernelspec": {
      "name": "python3",
      "display_name": "Python 3"
    },
    "accelerator": "GPU"
  },
  "cells": [
    {
      "cell_type": "markdown",
      "metadata": {
        "id": "view-in-github",
        "colab_type": "text"
      },
      "source": [
        "<a href=\"https://colab.research.google.com/github/wayne1123/Topic/blob/master/PCA_Pytorch.ipynb\" target=\"_parent\"><img src=\"https://colab.research.google.com/assets/colab-badge.svg\" alt=\"Open In Colab\"/></a>"
      ]
    },
    {
      "cell_type": "markdown",
      "metadata": {
        "id": "VTykafm7zbBA",
        "colab_type": "text"
      },
      "source": [
        "### PCA with Pytorch\n",
        "\n",
        "Date: 2nd July\n",
        "\n"
      ]
    },
    {
      "cell_type": "markdown",
      "metadata": {
        "id": "GiK4e5nazelL",
        "colab_type": "text"
      },
      "source": [
        "#### Basic Idea\n",
        "\n",
        "PCA(Principle Component Analysis) is to find the vectors which explain the largest variance of the original data.\n",
        "\n",
        "#### Procedures\n",
        "\n",
        "* Centering the matrix\n",
        "* Find the largest eigenvectors / eigenvalues -> To do that, we need to decompose the matrix into SVD (through torch.svd)\n",
        "* Then, get the largest eigenvalues\n",
        "\n",
        "\n",
        "\n",
        "#### Data Set: MNIST "
      ]
    },
    {
      "cell_type": "code",
      "metadata": {
        "id": "Af4QCNGozn5F",
        "colab_type": "code",
        "colab": {}
      },
      "source": [
        "from keras.datasets import mnist\n",
        "(x_train, y_train), (x_test, y_test) = mnist.load_data()"
      ],
      "execution_count": 0,
      "outputs": []
    },
    {
      "cell_type": "code",
      "metadata": {
        "id": "Ow3j0F7ezyTW",
        "colab_type": "code",
        "colab": {}
      },
      "source": [
        "x_train = x_train.astype('float32').reshape(-1, 784) / 255\n",
        "x_test = x_test.astype('float32').reshape(-1, 784) / 255"
      ],
      "execution_count": 0,
      "outputs": []
    },
    {
      "cell_type": "code",
      "metadata": {
        "id": "AXBuewXjz9VV",
        "colab_type": "code",
        "colab": {}
      },
      "source": [
        "import torch\n",
        "import torch.nn as nn\n",
        "import torch.nn.functional as F"
      ],
      "execution_count": 0,
      "outputs": []
    },
    {
      "cell_type": "code",
      "metadata": {
        "id": "jDDbTWwI3LDt",
        "colab_type": "code",
        "colab": {}
      },
      "source": [
        "class PCA(nn.Module):\n",
        "  \"\"\"\n",
        "  Taking the numpy input and \n",
        "  converting them into PyTorch / Computing the eigenvectors\n",
        "  Getting back to them by Numpy\n",
        "  \"\"\"\n",
        "  def __init__(self, X, y):\n",
        "    super(PCA, self).__init__()\n",
        "    self.X = self.centering(X)\n",
        "    self.y = torch.from_numpy(y.copy())\n",
        "    \n",
        "  def centering(self, X):\n",
        "    X = torch.from_numpy(X.copy())\n",
        "    return X - torch.mean(X)\n",
        "    \n",
        "  def forward(self, label, k=3):\n",
        "    \"\"\"\n",
        "    label : the number of MNIST digit that you are trying to decompose\n",
        "    k: Up to kth largest eigenvectors\n",
        "    \"\"\"\n",
        "    data = self.X[self.y==label]\n",
        "    u, s, v = torch.svd(data)\n",
        "    return v[:,:k].cpu().numpy()\n",
        "  \n",
        "  "
      ],
      "execution_count": 0,
      "outputs": []
    },
    {
      "cell_type": "code",
      "metadata": {
        "id": "qY03spJ65s7N",
        "colab_type": "code",
        "colab": {
          "base_uri": "https://localhost:8080/",
          "height": 1000
        },
        "outputId": "8d096dc7-7e53-4d13-f661-9041f443fee7"
      },
      "source": [
        "RANGE=5\n",
        "LABEL=4\n",
        "f = PCA(x_train, y_train)\n",
        "f_pca = f(LABEL, RANGE)\n",
        "for k in range(RANGE):\n",
        "  plt.imshow(f_pca[:,k].reshape(28,28), cmap='gray')\n",
        "  plt.title(str(k+1) + \"th(st,nd) eigenvector\")\n",
        "  plt.show()"
      ],
      "execution_count": 112,
      "outputs": [
        {
          "output_type": "display_data",
          "data": {
            "image/png": "[encoded data removed]",
            "text/plain": [
              "<Figure size 432x288 with 1 Axes>"
            ]
          },
          "metadata": {
            "tags": []
          }
        },
        {
          "output_type": "display_data",
          "data": {
            "image/png": "[encoded data removed]",
            "text/plain": [
              "<Figure size 432x288 with 1 Axes>"
            ]
          },
          "metadata": {
            "tags": []
          }
        },
        {
          "output_type": "display_data",
          "data": {
            "image/png": "[encoded data removed]",
            "text/plain": [
              "<Figure size 432x288 with 1 Axes>"
            ]
          },
          "metadata": {
            "tags": []
          }
        },
        {
          "output_type": "display_data",
          "data": {
            "image/png": "[encoded data removed]",
            "text/plain": [
              "<Figure size 432x288 with 1 Axes>"
            ]
          },
          "metadata": {
            "tags": []
          }
        },
        {
          "output_type": "display_data",
          "data": {
            "image/png": "[encoded data removed]",
            "text/plain": [
              "<Figure size 432x288 with 1 Axes>"
            ]
          },
          "metadata": {
            "tags": []
          }
        }
      ]
    },
    {
      "cell_type": "markdown",
      "metadata": {
        "id": "x626OBLg8TD1",
        "colab_type": "text"
      },
      "source": [
        "* You can see many over lapping numbers after the largest eigenvector"
      ]
    }
  ]
}