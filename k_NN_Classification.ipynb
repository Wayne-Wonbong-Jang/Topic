{
  "nbformat": 4,
  "nbformat_minor": 0,
  "metadata": {
    "colab": {
      "name": "k-NN Classification",
      "version": "0.3.2",
      "provenance": [],
      "include_colab_link": true
    },
    "kernelspec": {
      "name": "python3",
      "display_name": "Python 3"
    }
  },
  "cells": [
    {
      "cell_type": "markdown",
      "metadata": {
        "id": "view-in-github",
        "colab_type": "text"
      },
      "source": [
        "<a href=\"https://colab.research.google.com/github/wayne1123/Topic/blob/master/k_NN_Classification.ipynb\" target=\"_parent\"><img src=\"https://colab.research.google.com/assets/colab-badge.svg\" alt=\"Open In Colab\"/></a>"
      ]
    },
    {
      "metadata": {
        "id": "p4eIiB5RQej0",
        "colab_type": "text"
      },
      "cell_type": "markdown",
      "source": [
        "### Do k-NN with MNIST data \n",
        "\n",
        "#### For classification tasks - with labels\n",
        "\n",
        "$p(y=c|x, D, K) = \\frac{1}{K} \\sum_{i \\in N_K(x, D)} {\\mathbb{I}(y_i = c)}$\n",
        "\n",
        "where $N_K(x, D)$ stands for the K-nearest neighbours within $D$, and $x, D, K$ are given.\n",
        "\n",
        "Then, find the largest probability for the given test point\n",
        "\n",
        "\n",
        "\n"
      ]
    },
    {
      "metadata": {
        "id": "rEvqw1Sc_2h_",
        "colab_type": "text"
      },
      "cell_type": "markdown",
      "source": [
        "#### Preprocessing"
      ]
    },
    {
      "metadata": {
        "id": "pHkkzkYUQcJ2",
        "colab_type": "code",
        "colab": {}
      },
      "cell_type": "code",
      "source": [
        "import keras\n",
        "import numpy as np\n",
        "import matplotlib.pyplot as plt"
      ],
      "execution_count": 0,
      "outputs": []
    },
    {
      "metadata": {
        "id": "irh8y3vIQh8M",
        "colab_type": "code",
        "colab": {
          "base_uri": "https://localhost:8080/",
          "height": 51
        },
        "outputId": "0183feb5-eea6-46b1-a3a3-589cfd2d1fc3"
      },
      "cell_type": "code",
      "source": [
        "from keras.datasets import mnist\n",
        "(x_train, y_train), (x_test, y_test) = mnist.load_data()"
      ],
      "execution_count": 2,
      "outputs": [
        {
          "output_type": "stream",
          "text": [
            "Downloading data from https://s3.amazonaws.com/img-datasets/mnist.npz\n",
            "11493376/11490434 [==============================] - 0s 0us/step\n"
          ],
          "name": "stdout"
        }
      ]
    },
    {
      "metadata": {
        "id": "O5HbUkjg6xqh",
        "colab_type": "code",
        "colab": {}
      },
      "cell_type": "code",
      "source": [
        "x_train, x_test = x_train.astype(np.float32), x_test.astype(np.float32)\n",
        "x_train /= 255\n",
        "x_test /= 255\n"
      ],
      "execution_count": 0,
      "outputs": []
    },
    {
      "metadata": {
        "id": "ipDkRrNF_5Pp",
        "colab_type": "text"
      },
      "cell_type": "markdown",
      "source": [
        "#### Classification"
      ]
    },
    {
      "metadata": {
        "id": "K41ywDtm_7EI",
        "colab_type": "code",
        "colab": {}
      },
      "cell_type": "code",
      "source": [
        "class KNNC:\n",
        "  def __init__(self):\n",
        "    self.xtrain = x_train.reshape(-1,28,28)\n",
        "    self.xtest = x_test.reshape(-1,28,28)\n",
        "    self.ytrain = y_train\n",
        "    self.ytest = y_test\n",
        "  \n",
        "  def metric(self, x, y):\n",
        "    return np.mean(np.abs(x-y),(1,2))\n",
        "  \n",
        "  def pred(self, test, K=5):\n",
        "    distances = np.mean(np.abs(test - self.xtrain),(1,2))\n",
        "    idxs = np.argsort(distances)[0:K]\n",
        "    pred = self.ytrain[idxs]\n",
        "    idx, counts = np.unique(pred, return_counts=True)\n",
        "    return idx[np.argmax(counts)]\n",
        "  \n",
        "  def pred_test(self, K=5):\n",
        "    idxs = np.random.choice(self.xtest.shape[0], 100)\n",
        "    pred_out = np.zeros((len(idxs)))\n",
        "    test = self.xtest[idxs]\n",
        "    for i, y in enumerate(test):\n",
        "      #print(y.shape)\n",
        "      pred_out[i] = self.pred(y, K)\n",
        "    acc = (self.ytest[idxs] == pred_out)\n",
        "    return np.mean(acc)"
      ],
      "execution_count": 0,
      "outputs": []
    },
    {
      "metadata": {
        "id": "vYyFtVHhGaG7",
        "colab_type": "code",
        "colab": {}
      },
      "cell_type": "code",
      "source": [
        "k = KNNC()"
      ],
      "execution_count": 0,
      "outputs": []
    },
    {
      "metadata": {
        "id": "FlLHDkZQGyJq",
        "colab_type": "code",
        "colab": {}
      },
      "cell_type": "code",
      "source": [
        "accs = []\n",
        "for j in range(1,10):\n",
        "  acc = k.pred_test(K=j)\n",
        "  accs.append(acc)"
      ],
      "execution_count": 0,
      "outputs": []
    },
    {
      "metadata": {
        "id": "g9sGbShqS5KQ",
        "colab_type": "code",
        "colab": {
          "base_uri": "https://localhost:8080/",
          "height": 379
        },
        "outputId": "161ee5be-a262-46ca-cb9e-be223efbcc62"
      },
      "cell_type": "code",
      "source": [
        "plt.title(\"Accuracy of k-NN\")\n",
        "plt.plot(np.arange(1,10),accs)"
      ],
      "execution_count": 17,
      "outputs": [
        {
          "output_type": "execute_result",
          "data": {
            "text/plain": [
              "[<matplotlib.lines.Line2D at 0x7f5002bd6e10>]"
            ]
          },
          "metadata": {
            "tags": []
          },
          "execution_count": 17
        },
        {
          "output_type": "display_data",
          "data": {
            "image/png": "[encoded data removed]",
            "text/plain": [
              "<Figure size 576x396 with 1 Axes>"
            ]
          },
          "metadata": {
            "tags": []
          }
        }
      ]
    },
    {
      "metadata": {
        "id": "D0ZMCustTCpL",
        "colab_type": "code",
        "colab": {}
      },
      "cell_type": "code",
      "source": [
        ""
      ],
      "execution_count": 0,
      "outputs": []
    }
  ]
}