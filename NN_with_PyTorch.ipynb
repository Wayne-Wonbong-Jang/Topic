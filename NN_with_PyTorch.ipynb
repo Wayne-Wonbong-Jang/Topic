{
  "nbformat": 4,
  "nbformat_minor": 0,
  "metadata": {
    "colab": {
      "name": "NN with PyTorch",
      "version": "0.3.2",
      "provenance": [],
      "collapsed_sections": [],
      "include_colab_link": true
    },
    "kernelspec": {
      "name": "python3",
      "display_name": "Python 3"
    },
    "accelerator": "GPU"
  },
  "cells": [
    {
      "cell_type": "markdown",
      "metadata": {
        "id": "view-in-github",
        "colab_type": "text"
      },
      "source": [
        "[View in Colaboratory](https://colab.research.google.com/github/wayne1123/Topic/blob/master/NN_with_PyTorch.ipynb)"
      ]
    },
    {
      "metadata": {
        "id": "fr0hItkHdIFH",
        "colab_type": "code",
        "outputId": "b5f0653e-682d-49c5-b4cf-ac0cb38ea294",
        "colab": {
          "base_uri": "https://localhost:8080/",
          "height": 51
        }
      },
      "cell_type": "code",
      "source": [
        "from os import path\n",
        "from wheel.pep425tags import get_abbr_impl, get_impl_ver, get_abi_tag\n",
        "platform = '{}{}-{}'.format(get_abbr_impl(), get_impl_ver(), get_abi_tag())\n",
        "accelerator = 'cu80' if path.exists('/opt/bin/nvidia-smi') else 'cpu'\n",
        "!pip install -q http://download.pytorch.org/whl/{accelerator}/torch-0.4.0-{platform}-linux_x86_64.whl torchvision\n",
        "import torch\n",
        "print(torch.__version__)\n",
        "print(torch.cuda.is_available())"
      ],
      "execution_count": 155,
      "outputs": [
        {
          "output_type": "stream",
          "text": [
            "0.4.0\n",
            "True\n"
          ],
          "name": "stdout"
        }
      ]
    },
    {
      "metadata": {
        "id": "xXzbjL6xeBLN",
        "colab_type": "text"
      },
      "cell_type": "markdown",
      "source": [
        "### Making Neural Network using Numpy style PyTorch Only\n",
        "\n",
        "Data Set : MNIST <br/>\n",
        "Optimizer : Stochastic Gradient Descent <br/>\n",
        "Architecture: 1 Hidden Layer (Dense + ReLU, 250 neurons) & 1 Output Layer(Dense + Softmax for 10-class) <br/>\n",
        "Initialization: He initialization<br/>\n",
        "Batch Size: 250 <br/>\n",
        "\n"
      ]
    },
    {
      "metadata": {
        "id": "B5WTSP-6e1lx",
        "colab_type": "code",
        "colab": {}
      },
      "cell_type": "code",
      "source": [
        "import numpy as np\n",
        "from torchvision import datasets, transforms"
      ],
      "execution_count": 0,
      "outputs": []
    },
    {
      "metadata": {
        "id": "UrNzChbiiK05",
        "colab_type": "text"
      },
      "cell_type": "markdown",
      "source": [
        "### Loading MNIST data using torchvision.datasets.MNIST"
      ]
    },
    {
      "metadata": {
        "id": "LR2lcsFWht9e",
        "colab_type": "code",
        "colab": {}
      },
      "cell_type": "code",
      "source": [
        "BATCH_SIZE = 250\n",
        "transform = transforms.Compose([transforms.ToTensor()])\n",
        "trainset = datasets.MNIST(root='./data', train=True,\n",
        "                                      download=True, transform=transform)\n",
        "trainloader = torch.utils.data.DataLoader(trainset, batch_size=BATCH_SIZE,\n",
        "                                          shuffle=True, num_workers=4)\n",
        "testset = datasets.MNIST(root='./data', train=False,\n",
        "                                     download=True, transform=transform)\n",
        "testloader = torch.utils.data.DataLoader(testset, batch_size=BATCH_SIZE,\n",
        "                                         shuffle=False, num_workers=4)"
      ],
      "execution_count": 0,
      "outputs": []
    },
    {
      "metadata": {
        "id": "PUcjCpYy3Mp-",
        "colab_type": "code",
        "colab": {}
      },
      "cell_type": "code",
      "source": [
        "def to_categorical(y):\n",
        "  y_cat = torch.zeros(y.shape[0], 10)\n",
        "  y_cat[range(250),y] = 1\n",
        "  return y_cat"
      ],
      "execution_count": 0,
      "outputs": []
    },
    {
      "metadata": {
        "id": "gOY8ktMF4aJX",
        "colab_type": "code",
        "colab": {}
      },
      "cell_type": "code",
      "source": [
        "def preprocess(x, y):\n",
        "  x = x.reshape(-1, 784)\n",
        "  #y = to_categorical(y)\n",
        "  return x, y"
      ],
      "execution_count": 0,
      "outputs": []
    },
    {
      "metadata": {
        "id": "yVzurejg5GyJ",
        "colab_type": "code",
        "colab": {}
      },
      "cell_type": "code",
      "source": [
        "data = iter(trainloader)\n",
        "x_, y_ = data.next()\n",
        "x_, y_ = preprocess(x_, y_)"
      ],
      "execution_count": 0,
      "outputs": []
    },
    {
      "metadata": {
        "id": "qVJgx99LiVph",
        "colab_type": "text"
      },
      "cell_type": "markdown",
      "source": [
        "### Initialization\n",
        "\n",
        "He initialization : https://arxiv.org/pdf/1502.01852.pdf\n",
        "\n",
        "$W\\sim Normal(0, \\frac{2}{f_{in}})$\n",
        "\n",
        "For bias, there is no consensus how to initialize it. Since the weight matrix is initialized as normal distribution, the asymmetry breaking is already done. Some prefer to initialize the bias as 0.01 in order to activate ReLU function, but its effects are not yet confirmed."
      ]
    },
    {
      "metadata": {
        "id": "sADUt748dQQf",
        "colab_type": "code",
        "colab": {}
      },
      "cell_type": "code",
      "source": [
        "def he_init(W):\n",
        "  dims = W.shape\n",
        "  if len(dims) > 2:\n",
        "    fan_out = np.prod(dims[-1])\n",
        "    fan_in = dims[:-1]\n",
        "  else:\n",
        "    fan_out = dims[1]\n",
        "    fan_in = dims[0]\n",
        "  stddev = np.sqrt(2/fan_in)\n",
        "  W_out = torch.randn(fan_in, fan_out) * stddev\n",
        "  W_out = torch.min(W_out, torch.ones_like(W_out))\n",
        "  W_out = torch.max(W_out, torch.ones_like(W_out) * (-1))\n",
        "  W_out = W_out.reshape(W.shape)\n",
        "  return W_out"
      ],
      "execution_count": 0,
      "outputs": []
    },
    {
      "metadata": {
        "id": "iWzhdxk55Nf0",
        "colab_type": "code",
        "colab": {}
      },
      "cell_type": "code",
      "source": [
        "W1 = torch.zeros(784, 250)\n",
        "b1 = torch.zeros(1, 250)\n",
        "W2 = torch.zeros(250, 10)\n",
        "b2 = torch.zeros(1, 10)"
      ],
      "execution_count": 0,
      "outputs": []
    },
    {
      "metadata": {
        "id": "UBZITXYk5Vld",
        "colab_type": "code",
        "colab": {}
      },
      "cell_type": "code",
      "source": [
        "W1 = he_init(W1)\n",
        "W2 = he_init(W2)"
      ],
      "execution_count": 0,
      "outputs": []
    },
    {
      "metadata": {
        "id": "GaDKiRW83pAZ",
        "colab_type": "text"
      },
      "cell_type": "markdown",
      "source": [
        "### Linear function\n",
        "\n",
        "\n",
        "Z = XW + b <br/>\n",
        "$\\frac{\\partial L}{\\partial X}=\\frac{\\partial L}{\\partial Z}\\frac{\\partial Z}{\\partial X}$ by Chain Rule\n",
        "\n",
        "L is the loss  function, and $\\frac{\\partial L}{\\partial Z}$ is the gradient from the previous layer(previous in terms of back-propagation)"
      ]
    },
    {
      "metadata": {
        "id": "_VdzSXd13sds",
        "colab_type": "code",
        "colab": {}
      },
      "cell_type": "code",
      "source": [
        "def linear_forward(x, w, b):\n",
        "  out = torch.mm(x, w) + b\n",
        "  cache = (x,w,b)\n",
        "  return out, cache"
      ],
      "execution_count": 0,
      "outputs": []
    },
    {
      "metadata": {
        "id": "-FRolRkd3_Ti",
        "colab_type": "code",
        "colab": {}
      },
      "cell_type": "code",
      "source": [
        "def linear_backward(dz, cache):\n",
        "  x, w, b = cache\n",
        "  dw = torch.mm(x.permute(1,0), dz)\n",
        "  dx = torch.mm(dz, w.permute(1,0))\n",
        "  db = torch.sum(dz, 0) # Sum over 0 axis\n",
        "  return dw, dx, db"
      ],
      "execution_count": 0,
      "outputs": []
    },
    {
      "metadata": {
        "id": "Jeii4TcslDa9",
        "colab_type": "text"
      },
      "cell_type": "markdown",
      "source": [
        "### Output function\n",
        "\n",
        "$Relu(x) = max(x, 0)$ <br/>"
      ]
    },
    {
      "metadata": {
        "id": "aHhaw9Nff_VU",
        "colab_type": "code",
        "colab": {}
      },
      "cell_type": "code",
      "source": [
        "def relu_forward(x):\n",
        "  cache = x\n",
        "  return torch.max(x, torch.zeros_like(x)), cache\n",
        "  "
      ],
      "execution_count": 0,
      "outputs": []
    },
    {
      "metadata": {
        "id": "6C67_d5P5rdc",
        "colab_type": "code",
        "colab": {}
      },
      "cell_type": "code",
      "source": [
        "h1, h1_cache = linear_forward(x_, W1, b1)\n",
        "y1, y1_cache = relu_forward(h1)\n",
        "h2, h2_cache = linear_forward(y1, W2, b2)"
      ],
      "execution_count": 0,
      "outputs": []
    },
    {
      "metadata": {
        "id": "Ir2s457F_IZb",
        "colab_type": "code",
        "colab": {}
      },
      "cell_type": "code",
      "source": [
        "def relu_backward(dz, cache):\n",
        "  x = cache\n",
        "  z = torch.max(x, torch.zeros_like(x))\n",
        "  z[z>0] = 1\n",
        "  dx = dz * z\n",
        "  return dx"
      ],
      "execution_count": 0,
      "outputs": []
    },
    {
      "metadata": {
        "id": "YOqJNsDqwUiB",
        "colab_type": "text"
      },
      "cell_type": "markdown",
      "source": [
        "### Loss function: Softmax and Cross-entropy\n",
        "\n",
        "Since it is multinomial classification, softmax is the reasonable choice. \n",
        "\n",
        "$Softmax(x_j) = \\frac{e^{x_j}}{\\sum_{k=1}^{K}e^{x_k}}$\n",
        "\n",
        "Crossentropy Loss function is the negative log-likelihood of multinomial distribution.\n",
        "$\\text{log}\\:L =\\sum_c \\sum_k y_k \\: \\text{log}\\:\\mu_{ck} $ where $\\mu_ck = softmax(x_k)$\n",
        "\n",
        "Therefore, \n",
        "\n",
        "$\\frac{\\partial NLL}{\\partial x_k}$ = $softmax(x_j) - \\delta_{jk}$ "
      ]
    },
    {
      "metadata": {
        "id": "fxlHjm9PhfRh",
        "colab_type": "code",
        "colab": {}
      },
      "cell_type": "code",
      "source": [
        "def softmax(x):\n",
        "  # It may cause NaN so I add 1e-6 in the end\n",
        "  e_x = torch.exp(x)\n",
        "  e_sum = torch.sum(e_x,1,keepdim=True)\n",
        "  return e_x/e_sum"
      ],
      "execution_count": 0,
      "outputs": []
    },
    {
      "metadata": {
        "id": "MXDIHsuV6le3",
        "colab_type": "code",
        "colab": {}
      },
      "cell_type": "code",
      "source": [
        "def nll(x, y):\n",
        "  P = softmax(x)\n",
        "  y_copy = y.clone()\n",
        "  y_ = to_categorical(y)\n",
        "  Loss = -torch.sum(torch.log(P) * y_)\n",
        "  dL = P \n",
        "  idx = torch.arange(BATCH_SIZE).type(torch.long)\n",
        "  y_copy = y_copy.type(torch.long)\n",
        "  dL[idx, y_copy] -= 1\n",
        "  return Loss, dL"
      ],
      "execution_count": 0,
      "outputs": []
    },
    {
      "metadata": {
        "id": "TCZT1_id6VRM",
        "colab_type": "code",
        "colab": {}
      },
      "cell_type": "code",
      "source": [
        "loss, dl = nll(h2, y_)"
      ],
      "execution_count": 0,
      "outputs": []
    },
    {
      "metadata": {
        "id": "0Y4D9OsEv0Oq",
        "colab_type": "text"
      },
      "cell_type": "markdown",
      "source": [
        "### Now, let's do back-propagation"
      ]
    },
    {
      "metadata": {
        "id": "XBDBvMrB249X",
        "colab_type": "code",
        "colab": {}
      },
      "cell_type": "code",
      "source": [
        "dw2, dx2, db2 = linear_backward(dl, h2_cache)"
      ],
      "execution_count": 0,
      "outputs": []
    },
    {
      "metadata": {
        "id": "wftXpo4kGeUi",
        "colab_type": "code",
        "colab": {}
      },
      "cell_type": "code",
      "source": [
        "dy1 = relu_backward(dx2, y1_cache)"
      ],
      "execution_count": 0,
      "outputs": []
    },
    {
      "metadata": {
        "id": "F9kb-KzL26Ly",
        "colab_type": "code",
        "colab": {}
      },
      "cell_type": "code",
      "source": [
        "dw1, dx1, db1 = linear_backward(dy1, h1_cache)"
      ],
      "execution_count": 0,
      "outputs": []
    },
    {
      "metadata": {
        "id": "18qUReal-iFH",
        "colab_type": "code",
        "colab": {}
      },
      "cell_type": "code",
      "source": [
        "W2 -= lr*dw2\n",
        "b2 -= lr*db2\n",
        "W1 -= lr*dw1\n",
        "b1 -= lr*db1"
      ],
      "execution_count": 0,
      "outputs": []
    },
    {
      "metadata": {
        "id": "oZmA0ZskHE4G",
        "colab_type": "text"
      },
      "cell_type": "markdown",
      "source": [
        "### Now, the code seems to work! Let's train for the entire data"
      ]
    },
    {
      "metadata": {
        "id": "mFYmxbAewCaE",
        "colab_type": "code",
        "colab": {}
      },
      "cell_type": "code",
      "source": [
        "n_epoch = 5\n",
        "W1 = torch.zeros(784, 250)\n",
        "b1 = torch.zeros(1, 250)\n",
        "W2 = torch.zeros(250, 10)\n",
        "b2 = torch.zeros(1, 10)\n",
        "\n",
        "W1 = he_init(W1)\n",
        "W2 = he_init(W2)"
      ],
      "execution_count": 0,
      "outputs": []
    },
    {
      "metadata": {
        "id": "2007EPg1Hwdw",
        "colab_type": "code",
        "colab": {}
      },
      "cell_type": "code",
      "source": [
        "loss_list = []\n",
        "for epoch in range(n_epoch):\n",
        "  for i, data in enumerate(trainloader, 0):\n",
        "    inputs, labels = data\n",
        "    x_, y_ = preprocess(inputs, labels)\n",
        "    h1, h1_cache = linear_forward(x_, W1, b1)\n",
        "    y1, y1_cache = relu_forward(h1)\n",
        "    h2, h2_cache = linear_forward(y1, W2, b2)\n",
        "    loss, dl = nll(h2, y_)\n",
        "    loss_list.append(loss)\n",
        "    dw2, dx2, db2 = linear_backward(dl, h2_cache)\n",
        "    dy1 = relu_backward(dx2, y1_cache)\n",
        "    dw1, dx1, db1 = linear_backward(dy1, h1_cache)\n",
        "    W1 -= lr*dw1\n",
        "    W2 -= lr*dw2\n",
        "    b1 -= lr*db1\n",
        "    b2 -= lr*db2"
      ],
      "execution_count": 0,
      "outputs": []
    },
    {
      "metadata": {
        "id": "P0umMraukToQ",
        "colab_type": "code",
        "colab": {
          "base_uri": "https://localhost:8080/",
          "height": 376
        },
        "outputId": "9783052f-51d4-41b3-8c32-d4a22990cc71"
      },
      "cell_type": "code",
      "source": [
        "import matplotlib.pyplot as plt\n",
        "plt.plot(loss_list)\n",
        "plt.xlabel(\"Number of Iterations\")\n",
        "plt.ylabel(\"Loss\")\n",
        "plt.title(\"The loss of MLP for MNIST\")\n",
        "plt.show()"
      ],
      "execution_count": 207,
      "outputs": [
        {
          "output_type": "display_data",
          "data": {
            "image/png": "[encoded data removed]",
            "text/plain": [
              "<matplotlib.figure.Figure at 0x7fdc2fb65b38>"
            ]
          },
          "metadata": {
            "tags": []
          }
        }
      ]
    },
    {
      "metadata": {
        "id": "BHoJVrpeaJ0b",
        "colab_type": "text"
      },
      "cell_type": "markdown",
      "source": [
        "### Now, test whether it correctly predicts - predict for the test set"
      ]
    },
    {
      "metadata": {
        "id": "wFzrjXKuwL3j",
        "colab_type": "code",
        "colab": {}
      },
      "cell_type": "code",
      "source": [
        "y_pred = torch.zeros(10000, 10)\n",
        "y_test = torch.zeros(10000)\n",
        "for i, data in enumerate(testloader, 0):\n",
        "  inputs, labels = data\n",
        "  x_, y_ = preprocess(inputs, labels)\n",
        "  h1, h1_cache = linear_forward(x_, W1, b1)\n",
        "  y1, y1_cache = relu_forward(h1)\n",
        "  h2, h2_cache = linear_forward(y1, W2, b2)\n",
        "  y2 = softmax(h2)\n",
        "  y_pred[i*BATCH_SIZE:(i+1)*BATCH_SIZE] = y2\n",
        "  y_test[i*BATCH_SIZE:(i+1)*BATCH_SIZE] = y_"
      ],
      "execution_count": 0,
      "outputs": []
    },
    {
      "metadata": {
        "id": "DV9nlOxwagGt",
        "colab_type": "text"
      },
      "cell_type": "markdown",
      "source": [
        "### Make it back to original format - 1 to 10 from one-hot vector"
      ]
    },
    {
      "metadata": {
        "id": "gf25IAHLYd69",
        "colab_type": "code",
        "colab": {}
      },
      "cell_type": "code",
      "source": [
        "def inv_categorical(y):\n",
        "  y_inv = torch.argmax(y, 1).type(torch.float)\n",
        "  return y_inv"
      ],
      "execution_count": 0,
      "outputs": []
    },
    {
      "metadata": {
        "id": "r0wVi0PCZZRj",
        "colab_type": "code",
        "colab": {}
      },
      "cell_type": "code",
      "source": [
        "y_predi = inv_categorical(y_pred)"
      ],
      "execution_count": 0,
      "outputs": []
    },
    {
      "metadata": {
        "id": "wLvcKqU9am5a",
        "colab_type": "text"
      },
      "cell_type": "markdown",
      "source": [
        "### Check how many it correctly predicts - it is more than 96%"
      ]
    },
    {
      "metadata": {
        "id": "2o-NtAQqZdsY",
        "colab_type": "code",
        "colab": {
          "base_uri": "https://localhost:8080/",
          "height": 34
        },
        "outputId": "4dde3aef-0b69-4773-ccfd-a1843d8a9b2b"
      },
      "cell_type": "code",
      "source": [
        "torch.sum(y_predi == y_test).type(torch.float) / 10000"
      ],
      "execution_count": 181,
      "outputs": [
        {
          "output_type": "execute_result",
          "data": {
            "text/plain": [
              "tensor(0.9629)"
            ]
          },
          "metadata": {
            "tags": []
          },
          "execution_count": 181
        }
      ]
    }
  ]
}